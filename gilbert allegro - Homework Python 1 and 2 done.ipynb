{
 "cells": [
  {
   "cell_type": "markdown",
   "metadata": {},
   "source": [
    "# Latihan List"
   ]
  },
  {
   "cell_type": "markdown",
   "metadata": {},
   "source": [
    "1. Buatlah beberapa list sebagai berikut :\n",
    "    1. Sebuah list yang berisi 7 angka bilangan bulat (bebas angkanya) dan disimpan dalam variabel bernama \"int_list\"\n",
    "    2. Sebuah list yang berisi 7 kata (bebas katanya) dan disimpan dalam variabel bernama \"str_list\"\n",
    "    3. Sebuah list yang berisi 5 elemen dari berbagai tipe data (int, float, str, bool, list) di simpan dalam variabel bernama \"mix_list\""
   ]
  },
  {
   "cell_type": "code",
   "execution_count": 1,
   "metadata": {},
   "outputs": [
    {
     "data": {
      "text/plain": [
       "[9, 5, 4, 20, 7, 1, 2]"
      ]
     },
     "execution_count": 1,
     "metadata": {},
     "output_type": "execute_result"
    }
   ],
   "source": [
    "#int_list\n",
    "\n",
    "int_list=[9,5,4,20,7,1,2]\n",
    "int_list"
   ]
  },
  {
   "cell_type": "code",
   "execution_count": 2,
   "metadata": {},
   "outputs": [
    {
     "data": {
      "text/plain": [
       "['terbang', 'jatuh', 'naik', 'mundur', 'tikung', 'tekan', 'tarik']"
      ]
     },
     "execution_count": 2,
     "metadata": {},
     "output_type": "execute_result"
    }
   ],
   "source": [
    "#str_list\n",
    "str_list=['terbang','jatuh','naik','mundur','tikung','tekan','tarik']\n",
    "str_list\n",
    "#len(str_list)\n"
   ]
  },
  {
   "cell_type": "code",
   "execution_count": 3,
   "metadata": {},
   "outputs": [
    {
     "data": {
      "text/plain": [
       "['hijau', 5, 2.67, 4.5, 'merah', True, 'dualima']"
      ]
     },
     "execution_count": 3,
     "metadata": {},
     "output_type": "execute_result"
    }
   ],
   "source": [
    "#mix_list\n",
    "\n",
    "mix_list=['hijau',5,2.67,4.5,'merah',True,'dualima']\n",
    "mix_list\n",
    "#type(mix_list)"
   ]
  },
  {
   "cell_type": "markdown",
   "metadata": {},
   "source": [
    "2. Gantilah elemen (bebas) dengan index = 2 pada masing-masing list yang telah dibuat pada nomer 1"
   ]
  },
  {
   "cell_type": "code",
   "execution_count": 4,
   "metadata": {},
   "outputs": [
    {
     "data": {
      "text/plain": [
       "[9, 5, 10, 4, 20, 7, 1, 2]"
      ]
     },
     "execution_count": 4,
     "metadata": {},
     "output_type": "execute_result"
    }
   ],
   "source": [
    "#int_list\n",
    "\n",
    "int_list.insert(2,10)#index 2\n",
    "int_list"
   ]
  },
  {
   "cell_type": "code",
   "execution_count": 5,
   "metadata": {},
   "outputs": [
    {
     "data": {
      "text/plain": [
       "['terbang', 'jatuh', 'selam', 'naik', 'mundur', 'tikung', 'tekan', 'tarik']"
      ]
     },
     "execution_count": 5,
     "metadata": {},
     "output_type": "execute_result"
    }
   ],
   "source": [
    "#str_list\n",
    "\n",
    "str_list.insert(2,'selam')#index 2\n",
    "str_list"
   ]
  },
  {
   "cell_type": "code",
   "execution_count": 6,
   "metadata": {},
   "outputs": [
    {
     "data": {
      "text/plain": [
       "['hijau', 5, 7.86, 2.67, 4.5, 'merah', True, 'dualima']"
      ]
     },
     "execution_count": 6,
     "metadata": {},
     "output_type": "execute_result"
    }
   ],
   "source": [
    "#mix_list\n",
    "\n",
    "mix_list.insert(2,7.86)#index 2\n",
    "mix_list"
   ]
  },
  {
   "cell_type": "markdown",
   "metadata": {},
   "source": [
    "3. Seleksi \"int_list\" sehingga memunculkan elemen pada urutan ke 3-6 dengan menggunakan 2 cara yang berbeda"
   ]
  },
  {
   "cell_type": "code",
   "execution_count": 7,
   "metadata": {},
   "outputs": [
    {
     "data": {
      "text/plain": [
       "[10, 4, 20, 7]"
      ]
     },
     "execution_count": 7,
     "metadata": {},
     "output_type": "execute_result"
    }
   ],
   "source": [
    "#cara 1\n",
    "#urutan 3 sampai 6 berarti index 0,1,2,3,4,5,6 index 2 ke 5 berarti [2:6] \n",
    "int_list[2:6]"
   ]
  },
  {
   "cell_type": "code",
   "execution_count": 8,
   "metadata": {},
   "outputs": [
    {
     "data": {
      "text/plain": [
       "[10, 4, 20, 7]"
      ]
     },
     "execution_count": 8,
     "metadata": {},
     "output_type": "execute_result"
    }
   ],
   "source": [
    "#cara 2\n",
    "int_list[-6:-2]\n",
    "    "
   ]
  },
  {
   "cell_type": "markdown",
   "metadata": {},
   "source": [
    "4. Hapuslah elemen terakhir pada setiap list dengan menggunakan 3 cara berbeda\n",
    "\n",
    "**Jangan lupa untuk membuat copy dari list terlebih dahulu (buat 3 copyan)**"
   ]
  },
  {
   "cell_type": "markdown",
   "metadata": {},
   "source": [
    "int_list"
   ]
  },
  {
   "cell_type": "code",
   "execution_count": 9,
   "metadata": {},
   "outputs": [
    {
     "data": {
      "text/plain": [
       "[9, 5, 10, 4, 20, 7, 1]"
      ]
     },
     "execution_count": 9,
     "metadata": {},
     "output_type": "execute_result"
    }
   ],
   "source": [
    "#cara 1\n",
    "int_listc=int_list.copy()\n",
    "del int_list[-1]#hapus elemen terakhir [9,5,4,20,7,1,2] \n",
    "int_list"
   ]
  },
  {
   "cell_type": "code",
   "execution_count": 10,
   "metadata": {},
   "outputs": [
    {
     "data": {
      "text/plain": [
       "[9, 5, 10, 4, 20, 7, 1]"
      ]
     },
     "execution_count": 10,
     "metadata": {},
     "output_type": "execute_result"
    }
   ],
   "source": [
    "#cara 2\n",
    "int_list=int_listc\n",
    "int_listc2=int_list.copy()\n",
    "int_list.pop(-1) #hapus elemen terakhir [9,5,4,20,7,1,2] \n",
    "int_list"
   ]
  },
  {
   "cell_type": "code",
   "execution_count": 11,
   "metadata": {},
   "outputs": [
    {
     "data": {
      "text/plain": [
       "[9, 5, 10, 4, 20, 7, 1]"
      ]
     },
     "execution_count": 11,
     "metadata": {},
     "output_type": "execute_result"
    }
   ],
   "source": [
    "#cara 3\n",
    "int_list=int_listc2\n",
    "int_list.remove(2)\n",
    "int_list"
   ]
  },
  {
   "cell_type": "markdown",
   "metadata": {},
   "source": [
    "str_list"
   ]
  },
  {
   "cell_type": "code",
   "execution_count": 12,
   "metadata": {},
   "outputs": [
    {
     "data": {
      "text/plain": [
       "['terbang', 'jatuh', 'selam', 'naik', 'mundur', 'tikung', 'tekan']"
      ]
     },
     "execution_count": 12,
     "metadata": {},
     "output_type": "execute_result"
    }
   ],
   "source": [
    "#cara 1\n",
    "str_listc=str_list.copy()\n",
    "del str_list[-1]#hapus elemen terakhir [9,5,4,20,7,1,2] \n",
    "str_list"
   ]
  },
  {
   "cell_type": "code",
   "execution_count": 13,
   "metadata": {},
   "outputs": [
    {
     "data": {
      "text/plain": [
       "['terbang', 'jatuh', 'selam', 'naik', 'mundur', 'tikung', 'tekan']"
      ]
     },
     "execution_count": 13,
     "metadata": {},
     "output_type": "execute_result"
    }
   ],
   "source": [
    "#cara 2\n",
    "str_list=str_listc\n",
    "str_listc2=str_list.copy()\n",
    "str_list.pop(-1) #hapus elemen terakhir [9,5,4,20,7,1,2] \n",
    "str_list"
   ]
  },
  {
   "cell_type": "code",
   "execution_count": 14,
   "metadata": {},
   "outputs": [
    {
     "data": {
      "text/plain": [
       "['terbang', 'jatuh', 'selam', 'naik', 'mundur', 'tikung', 'tekan']"
      ]
     },
     "execution_count": 14,
     "metadata": {},
     "output_type": "execute_result"
    }
   ],
   "source": [
    "#cara 3\n",
    "str_list=str_listc2\n",
    "str_list.remove('tarik')\n",
    "str_list"
   ]
  },
  {
   "cell_type": "markdown",
   "metadata": {},
   "source": [
    "mix_list"
   ]
  },
  {
   "cell_type": "code",
   "execution_count": 15,
   "metadata": {},
   "outputs": [
    {
     "data": {
      "text/plain": [
       "['hijau', 5, 7.86, 2.67, 4.5, 'merah', True]"
      ]
     },
     "execution_count": 15,
     "metadata": {},
     "output_type": "execute_result"
    }
   ],
   "source": [
    "#cara 1\n",
    "mix_listc=mix_list.copy()\n",
    "del mix_list[-1]#hapus elemen terakhir [9,5,4,20,7,1,2] \n",
    "mix_list"
   ]
  },
  {
   "cell_type": "code",
   "execution_count": 16,
   "metadata": {},
   "outputs": [
    {
     "data": {
      "text/plain": [
       "['hijau', 5, 7.86, 2.67, 4.5, 'merah', True]"
      ]
     },
     "execution_count": 16,
     "metadata": {},
     "output_type": "execute_result"
    }
   ],
   "source": [
    "#cara 2\n",
    "mix_list=mix_listc\n",
    "mix_listc2=mix_list.copy()\n",
    "mix_list.pop(-1) #hapus elemen terakhir [9,5,4,20,7,1,2] \n",
    "mix_list"
   ]
  },
  {
   "cell_type": "code",
   "execution_count": 17,
   "metadata": {},
   "outputs": [
    {
     "data": {
      "text/plain": [
       "['hijau', 5, 7.86, 2.67, 4.5, 'merah', True]"
      ]
     },
     "execution_count": 17,
     "metadata": {},
     "output_type": "execute_result"
    }
   ],
   "source": [
    "#cara 3\n",
    "mix_list=mix_listc2\n",
    "mix_list.remove('dualima')\n",
    "mix_list"
   ]
  },
  {
   "cell_type": "markdown",
   "metadata": {},
   "source": [
    "# Solve this"
   ]
  },
  {
   "cell_type": "markdown",
   "metadata": {},
   "source": [
    "Buatlah sebuah program yang meminta user untuk mengisi 2 inputan:\n",
    "1. Berapa berat badan anda dalam kg?\n",
    "2. Berapa tinggi badan anda dalam cm?\n",
    "\n",
    "Kemudian program dalam mengkalkulasi Body Mass Index dengan rumusan sebagai berikut:\n",
    "BMI = berat (kg) / tinggi<sup>2</sup> (**meter**)\n",
    "\n",
    "(Hint: Karena user mengisi dalam satuan cm, maka ubah ke dalam bentuk meter)\n",
    "\n",
    "-  BMI < 18.5 artinya berat badan kurang\n",
    "- 18.5 s/d 24.9 artinya berat badan ideal\n",
    "- 25.0 s/d 29.9 artinya berat badan berlebih\n",
    "- 30.0 s/d 39.9 artinya berat badan sangat berlebih\n",
    "- BMI > 39.9 artinya obesitas"
   ]
  },
  {
   "cell_type": "code",
   "execution_count": null,
   "metadata": {},
   "outputs": [
    {
     "name": "stdout",
     "output_type": "stream",
     "text": [
      "masukan berat badan anda(Kg):79\n",
      "masukan tinggi badan anda(cm):175\n",
      "BMI anda adalah 25.79591836734694\n",
      "Berat Badan ideal\n"
     ]
    }
   ],
   "source": [
    "#berat_badan=[]\n",
    "#tinggi_badan=[]\n",
    "\n",
    "while True:\n",
    "    #try:\n",
    "    berat_badan=int(input ('masukan berat badan anda(Kg):'))\n",
    "    tinggi_badan=int(input('masukan tinggi badan anda(cm):'))\n",
    "   # assert\n",
    "    #type(berat_badan)><int and type(tinggi_badan)><int\n",
    "    #except:\n",
    "     #   print('masukan angka tanpa koma')\n",
    "    \n",
    "    tinggi_badanx=tinggi_badan/100\n",
    "    BMI=berat_badan/tinggi_badanx**2\n",
    "    print('BMI anda adalah',BMI)\n",
    "    if BMI <18.5 :\n",
    "        print('oke')\n",
    "    elif BMI >= 18.5 and BMI <= 24.9:\n",
    "        print('Berat badan Kurang')\n",
    "    elif BMI >= 25.0 and BMI <= 29.9:\n",
    "        print('Berat Badan ideal')\n",
    "    elif BMI >= 30.0 and BMI <= 39.9:\n",
    "        print('Berat Badan Berlebih')\n",
    "    elif BMI >= 39.9:\n",
    "        print('bah obesitas')\n",
    "    "
   ]
  },
  {
   "cell_type": "code",
   "execution_count": null,
   "metadata": {},
   "outputs": [],
   "source": []
  }
 ],
 "metadata": {
  "kernelspec": {
   "display_name": "Python 3",
   "language": "python",
   "name": "python3"
  },
  "language_info": {
   "codemirror_mode": {
    "name": "ipython",
    "version": 3
   },
   "file_extension": ".py",
   "mimetype": "text/x-python",
   "name": "python",
   "nbconvert_exporter": "python",
   "pygments_lexer": "ipython3",
   "version": "3.8.5"
  }
 },
 "nbformat": 4,
 "nbformat_minor": 4
}
