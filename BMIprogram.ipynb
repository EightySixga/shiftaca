{
 "cells": [
  {
   "cell_type": "code",
   "execution_count": null,
   "metadata": {},
   "outputs": [],
   "source": [
    "#berat_badan=[]\n",
    "#tinggi_badan=[]\n",
    "\n",
    "while True:\n",
    "    #try:\n",
    "    berat_badan=int(input ('masukan berat badan anda(Kg):'))\n",
    "    tinggi_badan=int(input('masukan tinggi badan anda(cm):'))\n",
    "   # assert\n",
    "    #type(berat_badan)><int and type(tinggi_badan)><int\n",
    "    #except:\n",
    "     #   print('masukan angka tanpa koma')\n",
    "    \n",
    "    tinggi_badanx=tinggi_badan/100\n",
    "    BMI=berat_badan/tinggi_badanx**2\n",
    "    print('BMI anda adalah',BMI)\n",
    "    if BMI <18.5 :\n",
    "        print('oke')\n",
    "    elif BMI >= 18.5 and BMI <= 24.9:\n",
    "        print('Berat badan Kurang')\n",
    "    elif BMI >= 25.0 and BMI <= 29.9:\n",
    "        print('Berat Badan ideal')\n",
    "    elif BMI >= 30.0 and BMI <= 39.9:\n",
    "        print('Berat Badan Berlebih')\n",
    "    elif BMI >= 39.9:\n",
    "        print('bah obesitas')\n",
    "    "
   ]
  },
  {
   "cell_type": "code",
   "execution_count": null,
   "metadata": {},
   "outputs": [],
   "source": []
  }
 ],
 "metadata": {
  "kernelspec": {
   "display_name": "Python 3",
   "language": "python",
   "name": "python3"
  },
  "language_info": {
   "codemirror_mode": {
    "name": "ipython",
    "version": 3
   },
   "file_extension": ".py",
   "mimetype": "text/x-python",
   "name": "python",
   "nbconvert_exporter": "python",
   "pygments_lexer": "ipython3",
   "version": "3.8.5"
  }
 },
 "nbformat": 4,
 "nbformat_minor": 4
}
